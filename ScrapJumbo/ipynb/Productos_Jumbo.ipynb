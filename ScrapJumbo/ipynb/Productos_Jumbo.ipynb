{
 "cells": [
  {
   "cell_type": "code",
   "execution_count": 1,
   "metadata": {},
   "outputs": [],
   "source": [
    "import requests\n",
    "from bs4 import BeautifulSoup\n",
    "import pandas as pd\n",
    "\n",
    "webs = [\n",
    "    'https://www.jumbo.cl/lacteos?page=1',\n",
    "    'https://www.jumbo.cl/lacteos?page=2',\n",
    "    'https://www.jumbo.cl/lacteos?page=3',\n",
    "    'https://www.jumbo.cl/lacteos?page=4',\n",
    "    'https://www.jumbo.cl/lacteos?page=5',\n",
    "    'https://www.jumbo.cl/lacteos?page=6',\n",
    "    'https://www.jumbo.cl/lacteos?page=7',\n",
    "    'https://www.jumbo.cl/lacteos?page=8',\n",
    "    'https://www.jumbo.cl/lacteos?page=9',\n",
    "    'https://www.jumbo.cl/lacteos?page=10',\n",
    "    'https://www.jumbo.cl/lacteos?page=11',\n",
    "    'https://www.jumbo.cl/lacteos?page=12',\n",
    "    'https://www.jumbo.cl/lacteos?page=13',\n",
    "    'https://www.jumbo.cl/lacteos?page=14',\n",
    "    'https://www.jumbo.cl/lacteos?page=15',\n",
    "    'https://www.jumbo.cl/lacteos?page=16',\n",
    "    'https://www.jumbo.cl/lacteos?page=17',\n",
    "    'https://www.jumbo.cl/lacteos?page=18',\n",
    "    'https://www.jumbo.cl/lacteos?page=19',\n",
    "    'https://www.jumbo.cl/lacteos?page=20',\n",
    "]\n"
   ]
  },
  {
   "cell_type": "code",
   "execution_count": 2,
   "metadata": {},
   "outputs": [],
   "source": [
    "lista = []"
   ]
  },
  {
   "cell_type": "code",
   "execution_count": 3,
   "metadata": {},
   "outputs": [],
   "source": [
    "for web in webs:\n",
    "    resp = requests.get(web)\n",
    "    soup = BeautifulSoup(resp.text, 'html.parser')\n",
    "    \n",
    "    productos = soup.find_all('a', class_='product-card-name')\n",
    "    precios = soup.find_all('span', class_='prices-main-price')\n",
    "    \n",
    "    for prod, prec in zip(productos, precios):\n",
    "        nombre = prod.get_text(strip=True)\n",
    "        precio = prec.get_text(strip=True)\n",
    "        lista.append({'Producto': nombre, 'Precio': precio})"
   ]
  },
  {
   "cell_type": "code",
   "execution_count": 4,
   "metadata": {},
   "outputs": [],
   "source": [
    "df = pd.DataFrame(lista)"
   ]
  },
  {
   "cell_type": "code",
   "execution_count": 5,
   "metadata": {},
   "outputs": [
    {
     "name": "stdout",
     "output_type": "stream",
     "text": [
      "                                              Producto   Precio\n",
      "0                      Mantequilla Colun Con Sal 250 g   $3.099\n",
      "1      Huevos Cuisine & Co Extra Grandes Blanco 20 un.   $6.299\n",
      "2                    Leche Cuisine & Co Descremada 1 L   $1.059\n",
      "3               Yogurt Soprole Proteína Vainilla 155 g     $649\n",
      "4               Yogurt Soprole Proteína Frutilla 155 g     $649\n",
      "..                                                 ...      ...\n",
      "783  Pack Leche Loncoleche Sin Lactosa Frutilla 1 L...  $25.200\n",
      "784         Pack Leche Loncoleche Chocolate 1 L 12 un.  $17.868\n",
      "785           Pack Leche Loncoleche Plátano 1 L 12 un.  $17.868\n",
      "786          Pack Leche Loncoleche Vainilla 1 L 12 un.  $17.868\n",
      "787                   Leche San Ignacio Descremada 1 L   $3.049\n",
      "\n",
      "[788 rows x 2 columns]\n"
     ]
    }
   ],
   "source": [
    "print(df)"
   ]
  },
  {
   "cell_type": "code",
   "execution_count": 6,
   "metadata": {},
   "outputs": [],
   "source": [
    "df.to_csv('../output/data/LacteosJumbo.csv', index=False)\n",
    "\n",
    "df.to_excel('../output/data/LacteosJumbo.xlsx', index=False)"
   ]
  }
 ],
 "metadata": {
  "kernelspec": {
   "display_name": "Python 3",
   "language": "python",
   "name": "python3"
  },
  "language_info": {
   "codemirror_mode": {
    "name": "ipython",
    "version": 3
   },
   "file_extension": ".py",
   "mimetype": "text/x-python",
   "name": "python",
   "nbconvert_exporter": "python",
   "pygments_lexer": "ipython3",
   "version": "3.11.9"
  }
 },
 "nbformat": 4,
 "nbformat_minor": 2
}
